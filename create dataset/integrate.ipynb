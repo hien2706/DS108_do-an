{
 "cells": [
  {
   "cell_type": "code",
   "execution_count": 52,
   "metadata": {},
   "outputs": [],
   "source": [
    "import pandas as pd\n",
    "import numpy as np"
   ]
  },
  {
   "cell_type": "code",
   "execution_count": 53,
   "metadata": {},
   "outputs": [],
   "source": [
    "diagnosis_mapping= {'nevus':'nv','melanoma':'mel','seborrheic keratosis':'bkl','dermatofibroma':'df',\n",
    "                    'basal cell carcinoma': 'bcc','vascular lesion': 'vasc', 'actinic keratosis': 'akiec'}"
   ]
  },
  {
   "cell_type": "code",
   "execution_count": 54,
   "metadata": {},
   "outputs": [],
   "source": [
    "df_dermnet = pd.read_csv(\"C:\\\\Users\\\\FPT\\\\Desktop\\\\dermnet_images.csv\")\n",
    "df_dermnet['lesion_id'] = df_dermnet['image_id'].apply(lambda x: 'DERMNET'+str(x))\n",
    "df_dermnet = df_dermnet[['lesion_id', 'image_id', 'dx']]"
   ]
  },
  {
   "cell_type": "code",
   "execution_count": 55,
   "metadata": {},
   "outputs": [],
   "source": [
    "df_akiec = pd.read_csv(\"C:\\\\Users\\\\FPT\\\\Desktop\\\\ISIC_images\\\\akiec_metadata.csv\")\n",
    "df_bcc = pd.read_csv(\"C:\\\\Users\\\\FPT\\\\Desktop\\\\ISIC_images\\\\bcc_metadata.csv\")\n",
    "df_bkl = pd.read_csv(\"C:\\\\Users\\\\FPT\\\\Desktop\\\\ISIC_images\\\\bkl_metadata.csv\")\n",
    "df_df = pd.read_csv(\"C:\\\\Users\\\\FPT\\\\Desktop\\\\ISIC_images\\\\df_metadata.csv\")\n",
    "df_mel = pd.read_csv(\"C:\\\\Users\\\\FPT\\\\Desktop\\\\ISIC_images\\\\mel_metadata.csv\")\n",
    "df_nv = pd.read_csv(\"C:\\\\Users\\\\FPT\\\\Desktop\\\\ISIC_images\\\\nv_metadata.csv\")\n",
    "df_vasc = pd.read_csv(\"C:\\\\Users\\\\FPT\\\\Desktop\\\\ISIC_images\\\\vasc_metadata.csv\")"
   ]
  },
  {
   "cell_type": "code",
   "execution_count": 56,
   "metadata": {},
   "outputs": [],
   "source": [
    "df_isic = pd.concat([df_akiec, df_bcc, df_bkl, df_df, df_mel, df_nv, df_vasc], ignore_index=True)"
   ]
  },
  {
   "cell_type": "code",
   "execution_count": 57,
   "metadata": {},
   "outputs": [],
   "source": [
    "df_isic.rename(columns={'isic_id':'image_id', 'diagnosis':'dx'}, inplace=True)"
   ]
  },
  {
   "cell_type": "code",
   "execution_count": 58,
   "metadata": {},
   "outputs": [],
   "source": [
    "df_isic = df_isic[['image_id','age_approx','anatom_site_general','dx','sex','lesion_id']]"
   ]
  },
  {
   "cell_type": "code",
   "execution_count": 59,
   "metadata": {},
   "outputs": [],
   "source": [
    "df_isic['dx'] = df_isic['dx'].map(diagnosis_mapping)"
   ]
  },
  {
   "cell_type": "code",
   "execution_count": 60,
   "metadata": {},
   "outputs": [
    {
     "data": {
      "text/plain": [
       "dx\n",
       "nv       3000\n",
       "bcc      1500\n",
       "akiec    1300\n",
       "mel      1200\n",
       "bkl      1000\n",
       "df        300\n",
       "vasc      300\n",
       "Name: count, dtype: int64"
      ]
     },
     "execution_count": 60,
     "metadata": {},
     "output_type": "execute_result"
    }
   ],
   "source": [
    "df_isic.value_counts('dx')"
   ]
  },
  {
   "cell_type": "code",
   "execution_count": 61,
   "metadata": {},
   "outputs": [],
   "source": [
    "df_isic = pd.concat([df_isic, df_dermnet], ignore_index=True)"
   ]
  },
  {
   "cell_type": "code",
   "execution_count": 62,
   "metadata": {},
   "outputs": [
    {
     "data": {
      "text/html": [
       "<div>\n",
       "<style scoped>\n",
       "    .dataframe tbody tr th:only-of-type {\n",
       "        vertical-align: middle;\n",
       "    }\n",
       "\n",
       "    .dataframe tbody tr th {\n",
       "        vertical-align: top;\n",
       "    }\n",
       "\n",
       "    .dataframe thead th {\n",
       "        text-align: right;\n",
       "    }\n",
       "</style>\n",
       "<table border=\"1\" class=\"dataframe\">\n",
       "  <thead>\n",
       "    <tr style=\"text-align: right;\">\n",
       "      <th></th>\n",
       "      <th>image_id</th>\n",
       "      <th>age_approx</th>\n",
       "      <th>anatom_site_general</th>\n",
       "      <th>dx</th>\n",
       "      <th>sex</th>\n",
       "      <th>lesion_id</th>\n",
       "    </tr>\n",
       "  </thead>\n",
       "  <tbody>\n",
       "    <tr>\n",
       "      <th>0</th>\n",
       "      <td>ISIC_4695565</td>\n",
       "      <td>75.0</td>\n",
       "      <td>posterior torso</td>\n",
       "      <td>akiec</td>\n",
       "      <td>female</td>\n",
       "      <td>IL_2485486</td>\n",
       "    </tr>\n",
       "    <tr>\n",
       "      <th>1</th>\n",
       "      <td>ISIC_4407081</td>\n",
       "      <td>65.0</td>\n",
       "      <td>head/neck</td>\n",
       "      <td>akiec</td>\n",
       "      <td>female</td>\n",
       "      <td>IL_5173845</td>\n",
       "    </tr>\n",
       "    <tr>\n",
       "      <th>2</th>\n",
       "      <td>ISIC_6803155</td>\n",
       "      <td>70.0</td>\n",
       "      <td>head/neck</td>\n",
       "      <td>akiec</td>\n",
       "      <td>male</td>\n",
       "      <td>IL_8876724</td>\n",
       "    </tr>\n",
       "    <tr>\n",
       "      <th>3</th>\n",
       "      <td>ISIC_6037786</td>\n",
       "      <td>55.0</td>\n",
       "      <td>head/neck</td>\n",
       "      <td>akiec</td>\n",
       "      <td>female</td>\n",
       "      <td>IL_1728878</td>\n",
       "    </tr>\n",
       "    <tr>\n",
       "      <th>4</th>\n",
       "      <td>ISIC_4263601</td>\n",
       "      <td>75.0</td>\n",
       "      <td>head/neck</td>\n",
       "      <td>akiec</td>\n",
       "      <td>male</td>\n",
       "      <td>IL_6263448</td>\n",
       "    </tr>\n",
       "    <tr>\n",
       "      <th>...</th>\n",
       "      <td>...</td>\n",
       "      <td>...</td>\n",
       "      <td>...</td>\n",
       "      <td>...</td>\n",
       "      <td>...</td>\n",
       "      <td>...</td>\n",
       "    </tr>\n",
       "    <tr>\n",
       "      <th>8703</th>\n",
       "      <td>bcc_37</td>\n",
       "      <td>NaN</td>\n",
       "      <td>NaN</td>\n",
       "      <td>bcc</td>\n",
       "      <td>NaN</td>\n",
       "      <td>DERMNETbcc_37</td>\n",
       "    </tr>\n",
       "    <tr>\n",
       "      <th>8704</th>\n",
       "      <td>bcc_38</td>\n",
       "      <td>NaN</td>\n",
       "      <td>NaN</td>\n",
       "      <td>bcc</td>\n",
       "      <td>NaN</td>\n",
       "      <td>DERMNETbcc_38</td>\n",
       "    </tr>\n",
       "    <tr>\n",
       "      <th>8705</th>\n",
       "      <td>bcc_39</td>\n",
       "      <td>NaN</td>\n",
       "      <td>NaN</td>\n",
       "      <td>bcc</td>\n",
       "      <td>NaN</td>\n",
       "      <td>DERMNETbcc_39</td>\n",
       "    </tr>\n",
       "    <tr>\n",
       "      <th>8706</th>\n",
       "      <td>bcc_40</td>\n",
       "      <td>NaN</td>\n",
       "      <td>NaN</td>\n",
       "      <td>bcc</td>\n",
       "      <td>NaN</td>\n",
       "      <td>DERMNETbcc_40</td>\n",
       "    </tr>\n",
       "    <tr>\n",
       "      <th>8707</th>\n",
       "      <td>bcc_41</td>\n",
       "      <td>NaN</td>\n",
       "      <td>NaN</td>\n",
       "      <td>bcc</td>\n",
       "      <td>NaN</td>\n",
       "      <td>DERMNETbcc_41</td>\n",
       "    </tr>\n",
       "  </tbody>\n",
       "</table>\n",
       "<p>8708 rows × 6 columns</p>\n",
       "</div>"
      ],
      "text/plain": [
       "          image_id  age_approx anatom_site_general     dx     sex  \\\n",
       "0     ISIC_4695565        75.0     posterior torso  akiec  female   \n",
       "1     ISIC_4407081        65.0           head/neck  akiec  female   \n",
       "2     ISIC_6803155        70.0           head/neck  akiec    male   \n",
       "3     ISIC_6037786        55.0           head/neck  akiec  female   \n",
       "4     ISIC_4263601        75.0           head/neck  akiec    male   \n",
       "...            ...         ...                 ...    ...     ...   \n",
       "8703        bcc_37         NaN                 NaN    bcc     NaN   \n",
       "8704        bcc_38         NaN                 NaN    bcc     NaN   \n",
       "8705        bcc_39         NaN                 NaN    bcc     NaN   \n",
       "8706        bcc_40         NaN                 NaN    bcc     NaN   \n",
       "8707        bcc_41         NaN                 NaN    bcc     NaN   \n",
       "\n",
       "          lesion_id  \n",
       "0        IL_2485486  \n",
       "1        IL_5173845  \n",
       "2        IL_8876724  \n",
       "3        IL_1728878  \n",
       "4        IL_6263448  \n",
       "...             ...  \n",
       "8703  DERMNETbcc_37  \n",
       "8704  DERMNETbcc_38  \n",
       "8705  DERMNETbcc_39  \n",
       "8706  DERMNETbcc_40  \n",
       "8707  DERMNETbcc_41  \n",
       "\n",
       "[8708 rows x 6 columns]"
      ]
     },
     "execution_count": 62,
     "metadata": {},
     "output_type": "execute_result"
    }
   ],
   "source": [
    "df_isic"
   ]
  },
  {
   "cell_type": "code",
   "execution_count": 64,
   "metadata": {},
   "outputs": [],
   "source": [
    "df_isic.to_csv(\"C:\\\\Users\\\\FPT\\\\Desktop\\\\dataset_ds108\\\\isic_dermnet.csv\", index=False)"
   ]
  }
 ],
 "metadata": {
  "kernelspec": {
   "display_name": "school_work",
   "language": "python",
   "name": "python3"
  },
  "language_info": {
   "codemirror_mode": {
    "name": "ipython",
    "version": 3
   },
   "file_extension": ".py",
   "mimetype": "text/x-python",
   "name": "python",
   "nbconvert_exporter": "python",
   "pygments_lexer": "ipython3",
   "version": "3.12.2"
  }
 },
 "nbformat": 4,
 "nbformat_minor": 2
}
