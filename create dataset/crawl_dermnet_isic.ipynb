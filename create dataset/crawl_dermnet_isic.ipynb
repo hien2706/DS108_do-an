{
 "cells": [
  {
   "cell_type": "code",
   "execution_count": 12,
   "metadata": {},
   "outputs": [],
   "source": [
    "import requests\n",
    "from bs4 import BeautifulSoup\n",
    "import os\n",
    "import urllib.parse\n",
    "import pandas as pd"
   ]
  },
  {
   "cell_type": "code",
   "execution_count": 13,
   "metadata": {},
   "outputs": [],
   "source": [
    "df = pd.DataFrame({'image_id': [], 'url': [], 'dx' : []})"
   ]
  },
  {
   "cell_type": "code",
   "execution_count": 14,
   "metadata": {},
   "outputs": [],
   "source": [
    "def download_image(img_url, save_path):\n",
    "    response = requests.get(img_url, stream=True)\n",
    "    if response.status_code == 200:\n",
    "        with open(save_path, 'wb') as file:\n",
    "            for chunk in response.iter_content(1024):\n",
    "                file.write(chunk)\n",
    "        print(f\"Downloaded: {save_path}\")\n",
    "    else:\n",
    "        print(f\"Failed to download: {img_url}\")"
   ]
  },
  {
   "cell_type": "code",
   "execution_count": 15,
   "metadata": {},
   "outputs": [],
   "source": [
    "list_web_url = ['https://dermnetnz.org/topics/seborrhoeic-keratosis-dermoscopy-images',\n",
    "                'https://dermnetnz.org/topics/actinic-keratosis-dermoscopy-images',\n",
    "                'https://dermnetnz.org/topics/basal-cell-carcinoma-dermoscopy']\n",
    "list_dx = ['bkl', 'akiec', 'bcc']\n"
   ]
  },
  {
   "cell_type": "code",
   "execution_count": 16,
   "metadata": {},
   "outputs": [],
   "source": [
    "def crawl_images(list_web_url, df , list_dx,folder_path):\n",
    "    for web_url,dx in zip(list_web_url, list_dx):\n",
    "        print('Getting html from ', web_url)\n",
    "        response = requests.get(web_url)\n",
    "        if response.status_code != 200:\n",
    "            print(f\"Failed to retrieve the page. Status code: {response.status_code}\")\n",
    "            exit()\n",
    "        soup = BeautifulSoup(response.content, 'html.parser')\n",
    "        img_tags = soup.find_all('img')\n",
    "        urls = ['https://dermnetnz.org'+img['src'] for img in img_tags][1:]\n",
    "        index = len(urls)\n",
    "        new_rows = []\n",
    "        for i in range(index):\n",
    "            path = os.path.join(folder_path, f'{dx}_{str(i)}.jpg')\n",
    "            download_image(urls[i], path)\n",
    "            new_rows.append({'image_id': f'{dx}_{str(i)}', 'url': urls[i], 'dx': f'{dx}'})\n",
    "        new_rows_df = pd.DataFrame(new_rows)\n",
    "        df = pd.concat([df, new_rows_df], ignore_index=True)\n",
    "    return df"
   ]
  },
  {
   "cell_type": "code",
   "execution_count": 17,
   "metadata": {},
   "outputs": [
    {
     "name": "stdout",
     "output_type": "stream",
     "text": [
      "Getting html from  https://dermnetnz.org/topics/seborrhoeic-keratosis-dermoscopy-images\n",
      "Downloaded: C:\\Users\\FPT\\Desktop\\dermnet_images\\bkl_0.jpg\n",
      "Downloaded: C:\\Users\\FPT\\Desktop\\dermnet_images\\bkl_1.jpg\n",
      "Downloaded: C:\\Users\\FPT\\Desktop\\dermnet_images\\bkl_2.jpg\n",
      "Downloaded: C:\\Users\\FPT\\Desktop\\dermnet_images\\bkl_3.jpg\n",
      "Downloaded: C:\\Users\\FPT\\Desktop\\dermnet_images\\bkl_4.jpg\n",
      "Downloaded: C:\\Users\\FPT\\Desktop\\dermnet_images\\bkl_5.jpg\n",
      "Downloaded: C:\\Users\\FPT\\Desktop\\dermnet_images\\bkl_6.jpg\n",
      "Downloaded: C:\\Users\\FPT\\Desktop\\dermnet_images\\bkl_7.jpg\n",
      "Downloaded: C:\\Users\\FPT\\Desktop\\dermnet_images\\bkl_8.jpg\n",
      "Downloaded: C:\\Users\\FPT\\Desktop\\dermnet_images\\bkl_9.jpg\n",
      "Downloaded: C:\\Users\\FPT\\Desktop\\dermnet_images\\bkl_10.jpg\n",
      "Downloaded: C:\\Users\\FPT\\Desktop\\dermnet_images\\bkl_11.jpg\n",
      "Downloaded: C:\\Users\\FPT\\Desktop\\dermnet_images\\bkl_12.jpg\n",
      "Downloaded: C:\\Users\\FPT\\Desktop\\dermnet_images\\bkl_13.jpg\n",
      "Downloaded: C:\\Users\\FPT\\Desktop\\dermnet_images\\bkl_14.jpg\n",
      "Downloaded: C:\\Users\\FPT\\Desktop\\dermnet_images\\bkl_15.jpg\n",
      "Downloaded: C:\\Users\\FPT\\Desktop\\dermnet_images\\bkl_16.jpg\n",
      "Downloaded: C:\\Users\\FPT\\Desktop\\dermnet_images\\bkl_17.jpg\n",
      "Downloaded: C:\\Users\\FPT\\Desktop\\dermnet_images\\bkl_18.jpg\n",
      "Downloaded: C:\\Users\\FPT\\Desktop\\dermnet_images\\bkl_19.jpg\n",
      "Downloaded: C:\\Users\\FPT\\Desktop\\dermnet_images\\bkl_20.jpg\n",
      "Downloaded: C:\\Users\\FPT\\Desktop\\dermnet_images\\bkl_21.jpg\n",
      "Downloaded: C:\\Users\\FPT\\Desktop\\dermnet_images\\bkl_22.jpg\n",
      "Downloaded: C:\\Users\\FPT\\Desktop\\dermnet_images\\bkl_23.jpg\n",
      "Downloaded: C:\\Users\\FPT\\Desktop\\dermnet_images\\bkl_24.jpg\n",
      "Downloaded: C:\\Users\\FPT\\Desktop\\dermnet_images\\bkl_25.jpg\n",
      "Downloaded: C:\\Users\\FPT\\Desktop\\dermnet_images\\bkl_26.jpg\n",
      "Downloaded: C:\\Users\\FPT\\Desktop\\dermnet_images\\bkl_27.jpg\n",
      "Downloaded: C:\\Users\\FPT\\Desktop\\dermnet_images\\bkl_28.jpg\n",
      "Downloaded: C:\\Users\\FPT\\Desktop\\dermnet_images\\bkl_29.jpg\n",
      "Downloaded: C:\\Users\\FPT\\Desktop\\dermnet_images\\bkl_30.jpg\n",
      "Downloaded: C:\\Users\\FPT\\Desktop\\dermnet_images\\bkl_31.jpg\n",
      "Downloaded: C:\\Users\\FPT\\Desktop\\dermnet_images\\bkl_32.jpg\n",
      "Downloaded: C:\\Users\\FPT\\Desktop\\dermnet_images\\bkl_33.jpg\n",
      "Downloaded: C:\\Users\\FPT\\Desktop\\dermnet_images\\bkl_34.jpg\n",
      "Downloaded: C:\\Users\\FPT\\Desktop\\dermnet_images\\bkl_35.jpg\n",
      "Downloaded: C:\\Users\\FPT\\Desktop\\dermnet_images\\bkl_36.jpg\n",
      "Downloaded: C:\\Users\\FPT\\Desktop\\dermnet_images\\bkl_37.jpg\n",
      "Downloaded: C:\\Users\\FPT\\Desktop\\dermnet_images\\bkl_38.jpg\n",
      "Downloaded: C:\\Users\\FPT\\Desktop\\dermnet_images\\bkl_39.jpg\n",
      "Downloaded: C:\\Users\\FPT\\Desktop\\dermnet_images\\bkl_40.jpg\n",
      "Downloaded: C:\\Users\\FPT\\Desktop\\dermnet_images\\bkl_41.jpg\n",
      "Downloaded: C:\\Users\\FPT\\Desktop\\dermnet_images\\bkl_42.jpg\n",
      "Downloaded: C:\\Users\\FPT\\Desktop\\dermnet_images\\bkl_43.jpg\n",
      "Downloaded: C:\\Users\\FPT\\Desktop\\dermnet_images\\bkl_44.jpg\n",
      "Getting html from  https://dermnetnz.org/topics/actinic-keratosis-dermoscopy-images\n",
      "Downloaded: C:\\Users\\FPT\\Desktop\\dermnet_images\\akiec_0.jpg\n",
      "Downloaded: C:\\Users\\FPT\\Desktop\\dermnet_images\\akiec_1.jpg\n",
      "Downloaded: C:\\Users\\FPT\\Desktop\\dermnet_images\\akiec_2.jpg\n",
      "Downloaded: C:\\Users\\FPT\\Desktop\\dermnet_images\\akiec_3.jpg\n",
      "Downloaded: C:\\Users\\FPT\\Desktop\\dermnet_images\\akiec_4.jpg\n",
      "Downloaded: C:\\Users\\FPT\\Desktop\\dermnet_images\\akiec_5.jpg\n",
      "Downloaded: C:\\Users\\FPT\\Desktop\\dermnet_images\\akiec_6.jpg\n",
      "Downloaded: C:\\Users\\FPT\\Desktop\\dermnet_images\\akiec_7.jpg\n",
      "Downloaded: C:\\Users\\FPT\\Desktop\\dermnet_images\\akiec_8.jpg\n",
      "Downloaded: C:\\Users\\FPT\\Desktop\\dermnet_images\\akiec_9.jpg\n",
      "Downloaded: C:\\Users\\FPT\\Desktop\\dermnet_images\\akiec_10.jpg\n",
      "Downloaded: C:\\Users\\FPT\\Desktop\\dermnet_images\\akiec_11.jpg\n",
      "Downloaded: C:\\Users\\FPT\\Desktop\\dermnet_images\\akiec_12.jpg\n",
      "Downloaded: C:\\Users\\FPT\\Desktop\\dermnet_images\\akiec_13.jpg\n",
      "Downloaded: C:\\Users\\FPT\\Desktop\\dermnet_images\\akiec_14.jpg\n",
      "Downloaded: C:\\Users\\FPT\\Desktop\\dermnet_images\\akiec_15.jpg\n",
      "Downloaded: C:\\Users\\FPT\\Desktop\\dermnet_images\\akiec_16.jpg\n",
      "Downloaded: C:\\Users\\FPT\\Desktop\\dermnet_images\\akiec_17.jpg\n",
      "Downloaded: C:\\Users\\FPT\\Desktop\\dermnet_images\\akiec_18.jpg\n",
      "Downloaded: C:\\Users\\FPT\\Desktop\\dermnet_images\\akiec_19.jpg\n",
      "Downloaded: C:\\Users\\FPT\\Desktop\\dermnet_images\\akiec_20.jpg\n",
      "Getting html from  https://dermnetnz.org/topics/basal-cell-carcinoma-dermoscopy\n",
      "Downloaded: C:\\Users\\FPT\\Desktop\\dermnet_images\\bcc_0.jpg\n",
      "Downloaded: C:\\Users\\FPT\\Desktop\\dermnet_images\\bcc_1.jpg\n",
      "Downloaded: C:\\Users\\FPT\\Desktop\\dermnet_images\\bcc_2.jpg\n",
      "Downloaded: C:\\Users\\FPT\\Desktop\\dermnet_images\\bcc_3.jpg\n",
      "Downloaded: C:\\Users\\FPT\\Desktop\\dermnet_images\\bcc_4.jpg\n",
      "Downloaded: C:\\Users\\FPT\\Desktop\\dermnet_images\\bcc_5.jpg\n",
      "Downloaded: C:\\Users\\FPT\\Desktop\\dermnet_images\\bcc_6.jpg\n",
      "Downloaded: C:\\Users\\FPT\\Desktop\\dermnet_images\\bcc_7.jpg\n",
      "Downloaded: C:\\Users\\FPT\\Desktop\\dermnet_images\\bcc_8.jpg\n",
      "Downloaded: C:\\Users\\FPT\\Desktop\\dermnet_images\\bcc_9.jpg\n",
      "Downloaded: C:\\Users\\FPT\\Desktop\\dermnet_images\\bcc_10.jpg\n",
      "Downloaded: C:\\Users\\FPT\\Desktop\\dermnet_images\\bcc_11.jpg\n",
      "Downloaded: C:\\Users\\FPT\\Desktop\\dermnet_images\\bcc_12.jpg\n",
      "Downloaded: C:\\Users\\FPT\\Desktop\\dermnet_images\\bcc_13.jpg\n",
      "Downloaded: C:\\Users\\FPT\\Desktop\\dermnet_images\\bcc_14.jpg\n",
      "Downloaded: C:\\Users\\FPT\\Desktop\\dermnet_images\\bcc_15.jpg\n",
      "Downloaded: C:\\Users\\FPT\\Desktop\\dermnet_images\\bcc_16.jpg\n",
      "Downloaded: C:\\Users\\FPT\\Desktop\\dermnet_images\\bcc_17.jpg\n",
      "Downloaded: C:\\Users\\FPT\\Desktop\\dermnet_images\\bcc_18.jpg\n",
      "Downloaded: C:\\Users\\FPT\\Desktop\\dermnet_images\\bcc_19.jpg\n",
      "Downloaded: C:\\Users\\FPT\\Desktop\\dermnet_images\\bcc_20.jpg\n",
      "Downloaded: C:\\Users\\FPT\\Desktop\\dermnet_images\\bcc_21.jpg\n",
      "Downloaded: C:\\Users\\FPT\\Desktop\\dermnet_images\\bcc_22.jpg\n",
      "Downloaded: C:\\Users\\FPT\\Desktop\\dermnet_images\\bcc_23.jpg\n",
      "Downloaded: C:\\Users\\FPT\\Desktop\\dermnet_images\\bcc_24.jpg\n",
      "Downloaded: C:\\Users\\FPT\\Desktop\\dermnet_images\\bcc_25.jpg\n",
      "Downloaded: C:\\Users\\FPT\\Desktop\\dermnet_images\\bcc_26.jpg\n",
      "Downloaded: C:\\Users\\FPT\\Desktop\\dermnet_images\\bcc_27.jpg\n",
      "Downloaded: C:\\Users\\FPT\\Desktop\\dermnet_images\\bcc_28.jpg\n",
      "Downloaded: C:\\Users\\FPT\\Desktop\\dermnet_images\\bcc_29.jpg\n",
      "Downloaded: C:\\Users\\FPT\\Desktop\\dermnet_images\\bcc_30.jpg\n",
      "Downloaded: C:\\Users\\FPT\\Desktop\\dermnet_images\\bcc_31.jpg\n",
      "Downloaded: C:\\Users\\FPT\\Desktop\\dermnet_images\\bcc_32.jpg\n",
      "Downloaded: C:\\Users\\FPT\\Desktop\\dermnet_images\\bcc_33.jpg\n",
      "Downloaded: C:\\Users\\FPT\\Desktop\\dermnet_images\\bcc_34.jpg\n",
      "Downloaded: C:\\Users\\FPT\\Desktop\\dermnet_images\\bcc_35.jpg\n",
      "Downloaded: C:\\Users\\FPT\\Desktop\\dermnet_images\\bcc_36.jpg\n",
      "Downloaded: C:\\Users\\FPT\\Desktop\\dermnet_images\\bcc_37.jpg\n",
      "Downloaded: C:\\Users\\FPT\\Desktop\\dermnet_images\\bcc_38.jpg\n",
      "Downloaded: C:\\Users\\FPT\\Desktop\\dermnet_images\\bcc_39.jpg\n",
      "Downloaded: C:\\Users\\FPT\\Desktop\\dermnet_images\\bcc_40.jpg\n",
      "Downloaded: C:\\Users\\FPT\\Desktop\\dermnet_images\\bcc_41.jpg\n"
     ]
    }
   ],
   "source": [
    "df = crawl_images(list_web_url = list_web_url,\n",
    "                    df = df, \n",
    "                    list_dx = list_dx,\n",
    "                    folder_path = 'C:\\\\Users\\\\FPT\\\\Desktop\\\\dermnet_images\\\\')"
   ]
  },
  {
   "cell_type": "code",
   "execution_count": 22,
   "metadata": {},
   "outputs": [],
   "source": [
    "df.to_csv('C:\\\\Users\\\\FPT\\\\Desktop\\\\dermnet_images\\\\dermnet_images.csv', index=False)"
   ]
  },
  {
   "cell_type": "code",
   "execution_count": null,
   "metadata": {},
   "outputs": [],
   "source": [
    "!isic image download --search \"diagnosis:\\\"seborrheic keratosis\\\" AND image_type:\\\"dermoscopic\\\"\" --limit 1000 bkl/\n",
    "!isic image download --search \"diagnosis:\\\"basal cell carcinoma\\\" AND image_type:\\\"dermoscopic\\\"\" --limit 1500 bcc/\n",
    "!isic image download --search \"diagnosis:\\\"actinic keratosis\\\" AND image_type:\\\"dermoscopic\\\"\" --limit 1300 akiec/\n",
    "!isic image download --search \"diagnosis:\\\"vascular lesion\\\" AND image_type:\\\"dermoscopic\\\"\" --limit 300 vasc/\n",
    "!isic image download --search \"diagnosis:\\\"dermatofibroma\\\" AND image_type:\\\"dermoscopic\\\"\" --limit 300 df/\n",
    "!isic image download --search \"diagnosis:\\\"melanoma\\\" AND image_type:\\\"dermoscopic\\\"\" --limit 1200 mel/\n",
    "!isic image download --search \"diagnosis:\\\"nevus\\\" AND image_type:\\\"dermoscopic\\\"\" --limit 3000 nv/"
   ]
  }
 ],
 "metadata": {
  "kernelspec": {
   "display_name": "school_work",
   "language": "python",
   "name": "python3"
  },
  "language_info": {
   "codemirror_mode": {
    "name": "ipython",
    "version": 3
   },
   "file_extension": ".py",
   "mimetype": "text/x-python",
   "name": "python",
   "nbconvert_exporter": "python",
   "pygments_lexer": "ipython3",
   "version": "3.12.2"
  }
 },
 "nbformat": 4,
 "nbformat_minor": 2
}
